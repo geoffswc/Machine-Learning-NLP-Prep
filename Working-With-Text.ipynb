{
 "cells": [
  {
   "cell_type": "code",
   "execution_count": 1,
   "metadata": {},
   "outputs": [
    {
     "name": "stdout",
     "output_type": "stream",
     "text": [
      "hello\n"
     ]
    }
   ],
   "source": [
    "print(\"hello\")"
   ]
  },
  {
   "cell_type": "code",
   "execution_count": 3,
   "metadata": {},
   "outputs": [],
   "source": [
    "# work with strings\n",
    "# (lists loops and conditionals)\n",
    "\n",
    "# read external text as a file\n",
    "# working with longer text documents\n",
    "# cleaning, parsing, preparing a text document\n",
    "\n",
    "# read in multiple text files\n",
    "# build a pandas dataframe"
   ]
  },
  {
   "cell_type": "code",
   "execution_count": 4,
   "metadata": {},
   "outputs": [],
   "source": [
    "positive_review = \"\"\"This was an excellent film. Good acting, \n",
    "well written script, entertaining plot. \"Not bad at all\".\"\"\""
   ]
  },
  {
   "cell_type": "code",
   "execution_count": 5,
   "metadata": {},
   "outputs": [],
   "source": [
    "negative_review = \"\"\"Poorly done film. Bad acting, boring plot, stilted dialogue, not good at all.\"\"\""
   ]
  },
  {
   "cell_type": "code",
   "execution_count": 6,
   "metadata": {},
   "outputs": [
    {
     "name": "stdout",
     "output_type": "stream",
     "text": [
      "This was an excellent film. Good acting, well written script, entertaining plot. Not bad at all.\n"
     ]
    }
   ],
   "source": [
    "print(positive_review)"
   ]
  },
  {
   "cell_type": "code",
   "execution_count": 7,
   "metadata": {},
   "outputs": [
    {
     "name": "stdout",
     "output_type": "stream",
     "text": [
      "Poorly done film. Bad acting, boring plot, stilted dialogue, not good at all.\n"
     ]
    }
   ],
   "source": [
    "print(negative_review)"
   ]
  },
  {
   "cell_type": "code",
   "execution_count": 8,
   "metadata": {},
   "outputs": [
    {
     "data": {
      "text/plain": [
       "96"
      ]
     },
     "execution_count": 8,
     "metadata": {},
     "output_type": "execute_result"
    }
   ],
   "source": [
    "len(positive_review)"
   ]
  },
  {
   "cell_type": "code",
   "execution_count": 9,
   "metadata": {},
   "outputs": [
    {
     "data": {
      "text/plain": [
       "77"
      ]
     },
     "execution_count": 9,
     "metadata": {},
     "output_type": "execute_result"
    }
   ],
   "source": [
    "len(negative_review)"
   ]
  },
  {
   "cell_type": "code",
   "execution_count": 12,
   "metadata": {},
   "outputs": [
    {
     "data": {
      "text/plain": [
       "'was a'"
      ]
     },
     "execution_count": 12,
     "metadata": {},
     "output_type": "execute_result"
    }
   ],
   "source": [
    "positive_review[5]"
   ]
  },
  {
   "cell_type": "code",
   "execution_count": 13,
   "metadata": {},
   "outputs": [
    {
     "data": {
      "text/plain": [
       "'was a'"
      ]
     },
     "execution_count": 13,
     "metadata": {},
     "output_type": "execute_result"
    }
   ],
   "source": [
    "positive_review[5:10]"
   ]
  },
  {
   "cell_type": "code",
   "execution_count": 14,
   "metadata": {},
   "outputs": [
    {
     "data": {
      "text/plain": [
       "'.'"
      ]
     },
     "execution_count": 14,
     "metadata": {},
     "output_type": "execute_result"
    }
   ],
   "source": [
    "positive_review[-1]"
   ]
  },
  {
   "cell_type": "code",
   "execution_count": 17,
   "metadata": {},
   "outputs": [
    {
     "data": {
      "text/plain": [
       "'n excellent film. Good acting, well written script, entertaining plot. Not b'"
      ]
     },
     "execution_count": 17,
     "metadata": {},
     "output_type": "execute_result"
    }
   ],
   "source": [
    "positive_review[10:-10]"
   ]
  },
  {
   "cell_type": "code",
   "execution_count": 20,
   "metadata": {},
   "outputs": [],
   "source": [
    "# this will print every character. (what if I wanted to print every *word*)\n",
    "#for c in positive_review:\n",
    "#    print(c)"
   ]
  },
  {
   "cell_type": "code",
   "execution_count": 22,
   "metadata": {},
   "outputs": [],
   "source": [
    "pos_words = positive_review.split()"
   ]
  },
  {
   "cell_type": "code",
   "execution_count": 23,
   "metadata": {},
   "outputs": [],
   "source": [
    "neg_words = negative_review.split()"
   ]
  },
  {
   "cell_type": "code",
   "execution_count": 24,
   "metadata": {},
   "outputs": [
    {
     "name": "stdout",
     "output_type": "stream",
     "text": [
      "['This', 'was', 'an', 'excellent', 'film.', 'Good', 'acting,', 'well', 'written', 'script,', 'entertaining', 'plot.', 'Not', 'bad', 'at', 'all.']\n",
      "['Poorly', 'done', 'film.', 'Bad', 'acting,', 'boring', 'plot,', 'stilted', 'dialogue,', 'not', 'good', 'at', 'all.']\n"
     ]
    }
   ],
   "source": [
    "print(pos_words)\n",
    "print(neg_words)"
   ]
  },
  {
   "cell_type": "code",
   "execution_count": 25,
   "metadata": {},
   "outputs": [
    {
     "name": "stdout",
     "output_type": "stream",
     "text": [
      "This\n",
      "was\n",
      "an\n",
      "excellent\n",
      "film.\n",
      "Good\n",
      "acting,\n",
      "well\n",
      "written\n",
      "script,\n",
      "entertaining\n",
      "plot.\n",
      "Not\n",
      "bad\n",
      "at\n",
      "all.\n"
     ]
    }
   ],
   "source": [
    "for w in pos_words:\n",
    "    print(w)"
   ]
  },
  {
   "cell_type": "code",
   "execution_count": 27,
   "metadata": {},
   "outputs": [],
   "source": [
    "# think for 5 min - what would useful about the two sentences. what modifications might you want to make?\n",
    "# resume at 10:52"
   ]
  },
  {
   "cell_type": "code",
   "execution_count": 28,
   "metadata": {},
   "outputs": [],
   "source": [
    "# punctuation\n",
    "# capitalization\n",
    "# stop words\n",
    "# short words"
   ]
  },
  {
   "cell_type": "code",
   "execution_count": 29,
   "metadata": {},
   "outputs": [],
   "source": [
    "a_word = \"HeLlo\""
   ]
  },
  {
   "cell_type": "code",
   "execution_count": 30,
   "metadata": {},
   "outputs": [
    {
     "name": "stdout",
     "output_type": "stream",
     "text": [
      "HeLlo\n"
     ]
    }
   ],
   "source": [
    "print(a_word)"
   ]
  },
  {
   "cell_type": "code",
   "execution_count": 31,
   "metadata": {},
   "outputs": [
    {
     "name": "stdout",
     "output_type": "stream",
     "text": [
      "hello\n"
     ]
    }
   ],
   "source": [
    "print(a_word.lower())"
   ]
  },
  {
   "cell_type": "code",
   "execution_count": 33,
   "metadata": {},
   "outputs": [],
   "source": [
    "a_word = a_word.lower()"
   ]
  },
  {
   "cell_type": "code",
   "execution_count": 34,
   "metadata": {},
   "outputs": [
    {
     "data": {
      "text/plain": [
       "'hello'"
      ]
     },
     "execution_count": 34,
     "metadata": {},
     "output_type": "execute_result"
    }
   ],
   "source": [
    "a_word"
   ]
  },
  {
   "cell_type": "code",
   "execution_count": 37,
   "metadata": {},
   "outputs": [],
   "source": [
    "# write a loop to print the lower case version of all words in the positive review\n",
    "# take 5 min 10:03"
   ]
  },
  {
   "cell_type": "code",
   "execution_count": 42,
   "metadata": {},
   "outputs": [],
   "source": [
    "pos_lower_case = []\n",
    "for w in pos_words:\n",
    "    pos_lower_case.append(w.lower())"
   ]
  },
  {
   "cell_type": "code",
   "execution_count": 44,
   "metadata": {},
   "outputs": [],
   "source": [
    "#pos_lower_case"
   ]
  },
  {
   "cell_type": "code",
   "execution_count": 45,
   "metadata": {},
   "outputs": [],
   "source": [
    "neg_lower_case = []\n",
    "for w in neg_words:\n",
    "    neg_lower_case.append(w.lower())"
   ]
  },
  {
   "cell_type": "code",
   "execution_count": 46,
   "metadata": {},
   "outputs": [
    {
     "name": "stdout",
     "output_type": "stream",
     "text": [
      "['this', 'was', 'an', 'excellent', 'film.', 'good', 'acting,', 'well', 'written', 'script,', 'entertaining', 'plot.', 'not', 'bad', 'at', 'all.']\n",
      "['poorly', 'done', 'film.', 'bad', 'acting,', 'boring', 'plot,', 'stilted', 'dialogue,', 'not', 'good', 'at', 'all.']\n"
     ]
    }
   ],
   "source": [
    "print(pos_lower_case)\n",
    "print(neg_lower_case)"
   ]
  },
  {
   "cell_type": "code",
   "execution_count": 47,
   "metadata": {},
   "outputs": [],
   "source": [
    "import re"
   ]
  },
  {
   "cell_type": "code",
   "execution_count": 48,
   "metadata": {},
   "outputs": [],
   "source": [
    "# remove everything from a string that isn't alphanumeric"
   ]
  },
  {
   "cell_type": "code",
   "execution_count": 49,
   "metadata": {},
   "outputs": [],
   "source": [
    "a_word = \"<>hello!%\""
   ]
  },
  {
   "cell_type": "code",
   "execution_count": 50,
   "metadata": {},
   "outputs": [
    {
     "data": {
      "text/plain": [
       "'<>hello!%'"
      ]
     },
     "execution_count": 50,
     "metadata": {},
     "output_type": "execute_result"
    }
   ],
   "source": [
    "a_word"
   ]
  },
  {
   "cell_type": "code",
   "execution_count": 52,
   "metadata": {},
   "outputs": [
    {
     "data": {
      "text/plain": [
       "'hello'"
      ]
     },
     "execution_count": 52,
     "metadata": {},
     "output_type": "execute_result"
    }
   ],
   "source": [
    "re.sub(r'\\W+', '', a_word)"
   ]
  },
  {
   "cell_type": "code",
   "execution_count": 53,
   "metadata": {},
   "outputs": [],
   "source": [
    "# we can now write a loop that removes all punctuation from our string"
   ]
  },
  {
   "cell_type": "code",
   "execution_count": 56,
   "metadata": {},
   "outputs": [],
   "source": [
    "# make an empty list called \"no_punct\"\n",
    "# write a loop to populate it with the words with all non-alphanum chars removed\n",
    "# resume aat 10:16"
   ]
  },
  {
   "cell_type": "code",
   "execution_count": 60,
   "metadata": {},
   "outputs": [],
   "source": [
    "pos_no_punct = []\n",
    "for w in pos_lower_case:\n",
    "    pos_no_punct.append(re.sub(r'\\W+', '', w))"
   ]
  },
  {
   "cell_type": "code",
   "execution_count": 61,
   "metadata": {},
   "outputs": [
    {
     "data": {
      "text/plain": [
       "['this',\n",
       " 'was',\n",
       " 'an',\n",
       " 'excellent',\n",
       " 'film',\n",
       " 'good',\n",
       " 'acting',\n",
       " 'well',\n",
       " 'written',\n",
       " 'script',\n",
       " 'entertaining',\n",
       " 'plot',\n",
       " 'not',\n",
       " 'bad',\n",
       " 'at',\n",
       " 'all']"
      ]
     },
     "execution_count": 61,
     "metadata": {},
     "output_type": "execute_result"
    }
   ],
   "source": [
    "pos_no_punct"
   ]
  },
  {
   "cell_type": "code",
   "execution_count": 63,
   "metadata": {},
   "outputs": [],
   "source": [
    "stop_words = ['this', 'the', 'a', 'an', 'in', 'at', 'by']"
   ]
  },
  {
   "cell_type": "code",
   "execution_count": 69,
   "metadata": {},
   "outputs": [
    {
     "data": {
      "text/plain": [
       "False"
      ]
     },
     "execution_count": 69,
     "metadata": {},
     "output_type": "execute_result"
    }
   ],
   "source": [
    "'this' not in stop_words"
   ]
  },
  {
   "cell_type": "code",
   "execution_count": 74,
   "metadata": {},
   "outputs": [],
   "source": [
    "no_stop_words = []\n",
    "for w in pos_no_punct:\n",
    "    if w not in stop_words:\n",
    "        no_stop_words.append(w)"
   ]
  },
  {
   "cell_type": "code",
   "execution_count": 73,
   "metadata": {},
   "outputs": [
    {
     "data": {
      "text/plain": [
       "['was',\n",
       " 'excellent',\n",
       " 'film',\n",
       " 'good',\n",
       " 'acting',\n",
       " 'well',\n",
       " 'written',\n",
       " 'script',\n",
       " 'entertaining',\n",
       " 'plot',\n",
       " 'not',\n",
       " 'bad',\n",
       " 'all']"
      ]
     },
     "execution_count": 73,
     "metadata": {},
     "output_type": "execute_result"
    }
   ],
   "source": [
    "no_stop_words"
   ]
  },
  {
   "cell_type": "code",
   "execution_count": 75,
   "metadata": {},
   "outputs": [],
   "source": [
    "from nltk.stem.porter import PorterStemmer\n",
    "from nltk.stem import WordNetLemmatizer"
   ]
  },
  {
   "cell_type": "code",
   "execution_count": 76,
   "metadata": {},
   "outputs": [],
   "source": [
    "#!pip install nltk"
   ]
  },
  {
   "cell_type": "code",
   "execution_count": 78,
   "metadata": {},
   "outputs": [],
   "source": [
    "stemmer = PorterStemmer()\n",
    "lemmatizer = WordNetLemmatizer()"
   ]
  },
  {
   "cell_type": "code",
   "execution_count": 86,
   "metadata": {},
   "outputs": [
    {
     "name": "stderr",
     "output_type": "stream",
     "text": [
      "[nltk_data] Downloading package wordnet to /Users/dsi-\n",
      "[nltk_data]     workshop/nltk_data...\n",
      "[nltk_data]   Package wordnet is already up-to-date!\n"
     ]
    },
    {
     "data": {
      "text/plain": [
       "True"
      ]
     },
     "execution_count": 86,
     "metadata": {},
     "output_type": "execute_result"
    }
   ],
   "source": [
    "import nltk\n",
    "nltk.download('wordnet')"
   ]
  },
  {
   "cell_type": "code",
   "execution_count": 83,
   "metadata": {},
   "outputs": [
    {
     "name": "stdout",
     "output_type": "stream",
     "text": [
      "narrat\n",
      "narrator\n"
     ]
    }
   ],
   "source": [
    "print(stemmer.stem('narrators'))\n",
    "print(lemmatizer.lemmatize('narrators'))"
   ]
  },
  {
   "cell_type": "code",
   "execution_count": 87,
   "metadata": {},
   "outputs": [
    {
     "name": "stdout",
     "output_type": "stream",
     "text": [
      "narrat\n",
      "narration\n"
     ]
    }
   ],
   "source": [
    "print(stemmer.stem('narrations'))\n",
    "print(lemmatizer.lemmatize('narrations'))"
   ]
  },
  {
   "cell_type": "code",
   "execution_count": 91,
   "metadata": {},
   "outputs": [],
   "source": [
    "stemmed_words = []\n",
    "for w in no_stop_words:\n",
    "    stemmed_words.append(stemmer.stem(w))"
   ]
  },
  {
   "cell_type": "code",
   "execution_count": 92,
   "metadata": {},
   "outputs": [
    {
     "data": {
      "text/plain": [
       "['wa',\n",
       " 'excel',\n",
       " 'film',\n",
       " 'good',\n",
       " 'act',\n",
       " 'well',\n",
       " 'written',\n",
       " 'script',\n",
       " 'entertain',\n",
       " 'plot',\n",
       " 'not',\n",
       " 'bad',\n",
       " 'all']"
      ]
     },
     "execution_count": 92,
     "metadata": {},
     "output_type": "execute_result"
    }
   ],
   "source": [
    "stemmed_words"
   ]
  },
  {
   "cell_type": "code",
   "execution_count": 96,
   "metadata": {},
   "outputs": [],
   "source": [
    "lemmatized_words = []\n",
    "for w in no_stop_words:\n",
    "    lemmatized_words.append(lemmatizer.lemmatize((w)))"
   ]
  },
  {
   "cell_type": "code",
   "execution_count": 97,
   "metadata": {},
   "outputs": [
    {
     "data": {
      "text/plain": [
       "['wa',\n",
       " 'excellent',\n",
       " 'film',\n",
       " 'good',\n",
       " 'acting',\n",
       " 'well',\n",
       " 'written',\n",
       " 'script',\n",
       " 'entertaining',\n",
       " 'plot',\n",
       " 'not',\n",
       " 'bad',\n",
       " 'all']"
      ]
     },
     "execution_count": 97,
     "metadata": {},
     "output_type": "execute_result"
    }
   ],
   "source": [
    "lemmatized_words"
   ]
  },
  {
   "cell_type": "code",
   "execution_count": 98,
   "metadata": {},
   "outputs": [
    {
     "data": {
      "text/plain": [
       "'wa excel film good act well written script entertain plot not bad all'"
      ]
     },
     "execution_count": 98,
     "metadata": {},
     "output_type": "execute_result"
    }
   ],
   "source": [
    "' '.join(stemmed_words)"
   ]
  },
  {
   "cell_type": "code",
   "execution_count": 99,
   "metadata": {},
   "outputs": [
    {
     "data": {
      "text/plain": [
       "'wa excellent film good acting well written script entertaining plot not bad all'"
      ]
     },
     "execution_count": 99,
     "metadata": {},
     "output_type": "execute_result"
    }
   ],
   "source": [
    "' '.join(lemmatized_words)"
   ]
  },
  {
   "cell_type": "code",
   "execution_count": 2,
   "metadata": {},
   "outputs": [],
   "source": [
    "import pandas as pd\n",
    "\n",
    "# Step 1: Mock dictionaries with 10 words each\n",
    "words = ['great', 'bad', 'amazing', 'boring', 'funny', 'sad', 'slow', 'fast', 'thrilling', 'predictable']\n",
    "\n",
    "doc1 = {\n",
    "    'great': 4,\n",
    "    'bad': 1,\n",
    "    'amazing': 2,\n",
    "    'boring': 0,\n",
    "    'funny': 3,\n",
    "    'sad': 0,\n",
    "    'slow': 1,\n",
    "    'fast': 2,\n",
    "    'thrilling': 0,\n",
    "    'predictable': 1\n",
    "}\n",
    "\n",
    "doc2 = {\n",
    "    'great': 2,\n",
    "    'bad': 3,\n",
    "    'amazing': 0,\n",
    "    'boring': 2,\n",
    "    'funny': 0,\n",
    "    'sad': 2,\n",
    "    'slow': 0,\n",
    "    'fast': 1,\n",
    "    'thrilling': 3,\n",
    "    'predictable': 1\n",
    "}\n",
    "\n",
    "# Step 2: Convert to DataFrame\n",
    "df = pd.DataFrame([doc1, doc2], index=['doc1', 'doc2'])\n",
    "\n"
   ]
  },
  {
   "cell_type": "code",
   "execution_count": 3,
   "metadata": {},
   "outputs": [
    {
     "data": {
      "text/html": [
       "<div>\n",
       "<style scoped>\n",
       "    .dataframe tbody tr th:only-of-type {\n",
       "        vertical-align: middle;\n",
       "    }\n",
       "\n",
       "    .dataframe tbody tr th {\n",
       "        vertical-align: top;\n",
       "    }\n",
       "\n",
       "    .dataframe thead th {\n",
       "        text-align: right;\n",
       "    }\n",
       "</style>\n",
       "<table border=\"1\" class=\"dataframe\">\n",
       "  <thead>\n",
       "    <tr style=\"text-align: right;\">\n",
       "      <th></th>\n",
       "      <th>great</th>\n",
       "      <th>bad</th>\n",
       "      <th>amazing</th>\n",
       "      <th>boring</th>\n",
       "      <th>funny</th>\n",
       "      <th>sad</th>\n",
       "      <th>slow</th>\n",
       "      <th>fast</th>\n",
       "      <th>thrilling</th>\n",
       "      <th>predictable</th>\n",
       "    </tr>\n",
       "  </thead>\n",
       "  <tbody>\n",
       "    <tr>\n",
       "      <th>doc1</th>\n",
       "      <td>4</td>\n",
       "      <td>1</td>\n",
       "      <td>2</td>\n",
       "      <td>0</td>\n",
       "      <td>3</td>\n",
       "      <td>0</td>\n",
       "      <td>1</td>\n",
       "      <td>2</td>\n",
       "      <td>0</td>\n",
       "      <td>1</td>\n",
       "    </tr>\n",
       "    <tr>\n",
       "      <th>doc2</th>\n",
       "      <td>2</td>\n",
       "      <td>3</td>\n",
       "      <td>0</td>\n",
       "      <td>2</td>\n",
       "      <td>0</td>\n",
       "      <td>2</td>\n",
       "      <td>0</td>\n",
       "      <td>1</td>\n",
       "      <td>3</td>\n",
       "      <td>1</td>\n",
       "    </tr>\n",
       "  </tbody>\n",
       "</table>\n",
       "</div>"
      ],
      "text/plain": [
       "      great  bad  amazing  boring  funny  sad  slow  fast  thrilling  \\\n",
       "doc1      4    1        2       0      3    0     1     2          0   \n",
       "doc2      2    3        0       2      0    2     0     1          3   \n",
       "\n",
       "      predictable  \n",
       "doc1            1  \n",
       "doc2            1  "
      ]
     },
     "execution_count": 3,
     "metadata": {},
     "output_type": "execute_result"
    }
   ],
   "source": [
    "df"
   ]
  },
  {
   "cell_type": "code",
   "execution_count": null,
   "metadata": {},
   "outputs": [],
   "source": []
  }
 ],
 "metadata": {
  "kernelspec": {
   "display_name": "Python 3 (ipykernel)",
   "language": "python",
   "name": "python3"
  },
  "language_info": {
   "codemirror_mode": {
    "name": "ipython",
    "version": 3
   },
   "file_extension": ".py",
   "mimetype": "text/x-python",
   "name": "python",
   "nbconvert_exporter": "python",
   "pygments_lexer": "ipython3",
   "version": "3.10.9"
  }
 },
 "nbformat": 4,
 "nbformat_minor": 4
}
